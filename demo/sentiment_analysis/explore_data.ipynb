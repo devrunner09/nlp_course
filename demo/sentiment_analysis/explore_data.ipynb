{
 "cells": [
  {
   "cell_type": "code",
   "execution_count": 1,
   "metadata": {},
   "outputs": [],
   "source": [
    "import pandas as pd"
   ]
  },
  {
   "cell_type": "code",
   "execution_count": 2,
   "metadata": {},
   "outputs": [],
   "source": [
    "import os"
   ]
  },
  {
   "cell_type": "code",
   "execution_count": 6,
   "metadata": {},
   "outputs": [],
   "source": [
    "root_train = '/Users/tuyendt4/nlp_data/_UIT-VSFC/train'\n",
    "sentiments = 'sentiments.txt'\n",
    "sentences = 'sents.txt'\n"
   ]
  },
  {
   "cell_type": "code",
   "execution_count": 12,
   "metadata": {},
   "outputs": [],
   "source": [
    "import numpy as np"
   ]
  },
  {
   "cell_type": "code",
   "execution_count": 17,
   "metadata": {},
   "outputs": [],
   "source": [
    "def read_data(root):\n",
    "    sentiment_lst, sentences_lst = [], []\n",
    "    filenames = ['sentiments.txt', 'sents.txt']\n",
    "    \n",
    "    for i in range(len(filenames)):\n",
    "        file = open(os.path.join(root, filenames[i]), 'r')\n",
    "        if i == 0:\n",
    "            for line in file:\n",
    "                line = line.strip()\n",
    "                sentiment_lst.append(int(line))\n",
    "        else: \n",
    "            for line in file:\n",
    "                line = line.strip()\n",
    "                sentences_lst.append(line)\n",
    "    x_train = np.array(sentences_lst)\n",
    "    y_train = np.array(sentiment_lst)\n",
    "    assert len(x_train) == len(y_train)\n",
    "    print(\"Total samples: {}\".format(len(y_train)))\n",
    "    return x_train, y_train\n",
    "    \n"
   ]
  },
  {
   "cell_type": "code",
   "execution_count": 18,
   "metadata": {},
   "outputs": [
    {
     "name": "stdout",
     "output_type": "stream",
     "text": [
      "Total samples: 11426\n"
     ]
    },
    {
     "data": {
      "text/plain": [
       "(array(['slide giáo trình đầy đủ .',\n",
       "        'nhiệt tình giảng dạy , gần gũi với sinh viên .',\n",
       "        'đi học đầy đủ full điểm chuyên cần .', ...,\n",
       "        'giao bài tập quá nhiều .', 'giáo viên dạy dễ hiểu , nhiệt tình .',\n",
       "        'gói gọn doubledot hay , tận tình , phù hợp với mọi trình độ cũng như nhu cầu môn học .'],\n",
       "       dtype='<U660'),\n",
       " array([2, 2, 0, ..., 0, 2, 2]))"
      ]
     },
     "execution_count": 18,
     "metadata": {},
     "output_type": "execute_result"
    }
   ],
   "source": [
    "read_data(root_train)"
   ]
  },
  {
   "cell_type": "code",
   "execution_count": null,
   "metadata": {},
   "outputs": [],
   "source": [
    "def process_tweet(tweet):\n",
    "    stopwords_english = stopwords.words('english')\n",
    "    # remove stock market tickers like $GE\n",
    "    tweet = re.sub(r'\\$\\w*', '', tweet)\n",
    "    # remove old style retweet text \"RT\"\n",
    "    tweet = re.sub(r'^RT[\\s]+', '', tweet)\n",
    "    # remove hyperlinks    \n",
    "    tweet = re.sub(r'https?://[^\\s\\n\\r]+', '', tweet)\n",
    "    # remove hashtags\n",
    "    # only removing the hash # sign from the word\n",
    "    tweet = re.sub(r'#', '', tweet)\n",
    "    # tokenize tweets\n",
    "    tokenizer = TweetTokenizer(preserve_case=False, strip_handles=True,\n",
    "                               reduce_len=True)\n",
    "    tweet_tokens = tokenizer.tokenize(tweet)\n",
    "\n",
    "    tweets_clean = []\n",
    "    for word in tweet_tokens:\n",
    "        if (word not in stopwords_english and  # remove stopwords\n",
    "                word not in string.punctuation):  # remove punctuation\n",
    "            # tweets_clean.append(word)\n",
    "            stem_word = stemmer.stem(word)  # stemming word\n",
    "            tweets_clean.append(stem_word)\n",
    "\n",
    "    return tweets_clean"
   ]
  },
  {
   "cell_type": "code",
   "execution_count": 19,
   "metadata": {},
   "outputs": [],
   "source": [
    "from transformers import AutoTokenizer"
   ]
  },
  {
   "cell_type": "code",
   "execution_count": 20,
   "metadata": {},
   "outputs": [
    {
     "name": "stderr",
     "output_type": "stream",
     "text": [
      "Downloading (…)okenizer_config.json: 100%|██████████| 207/207 [00:00<00:00, 90.5kB/s]\n",
      "Downloading (…)olve/main/vocab.json: 100%|██████████| 781k/781k [00:00<00:00, 912kB/s]\n",
      "Downloading (…)olve/main/merges.txt: 100%|██████████| 439k/439k [00:00<00:00, 699kB/s]\n",
      "Downloading (…)/main/tokenizer.json: 100%|██████████| 1.32M/1.32M [00:01<00:00, 993kB/s]\n",
      "Downloading (…)in/added_tokens.json: 100%|██████████| 24.0/24.0 [00:00<00:00, 42.2kB/s]\n",
      "Downloading (…)cial_tokens_map.json: 100%|██████████| 90.0/90.0 [00:00<00:00, 85.1kB/s]\n"
     ]
    }
   ],
   "source": [
    "tokenizer = AutoTokenizer.from_pretrained(\"imthanhlv/vigpt2medium\")"
   ]
  },
  {
   "cell_type": "code",
   "execution_count": 21,
   "metadata": {},
   "outputs": [
    {
     "data": {
      "text/plain": [
       "{'input_ids': [6258, 9801], 'attention_mask': [1, 1]}"
      ]
     },
     "execution_count": 21,
     "metadata": {},
     "output_type": "execute_result"
    }
   ],
   "source": [
    "tokenizer(\"Xin chao\")"
   ]
  },
  {
   "cell_type": "code",
   "execution_count": 25,
   "metadata": {},
   "outputs": [
    {
     "data": {
      "text/plain": [
       "['xin', 'chào', 'việt', 'nam', 'tôi', '.', 'chính', 'là']"
      ]
     },
     "execution_count": 25,
     "metadata": {},
     "output_type": "execute_result"
    }
   ],
   "source": [
    "from nltk.tokenize import TweetTokenizer\n",
    "\n",
    "tokenizer = TweetTokenizer(preserve_case=False, strip_handles=True,\n",
    "                               reduce_len=True)\n",
    "tweet_tokens = tokenizer.tokenize('xin chào Việt Nam tôi. chính là')\n",
    "tweet_tokens"
   ]
  },
  {
   "cell_type": "code",
   "execution_count": null,
   "metadata": {},
   "outputs": [],
   "source": []
  }
 ],
 "metadata": {
  "kernelspec": {
   "display_name": "nlp_kernel",
   "language": "python",
   "name": "nlp_kernel"
  },
  "language_info": {
   "codemirror_mode": {
    "name": "ipython",
    "version": 3
   },
   "file_extension": ".py",
   "mimetype": "text/x-python",
   "name": "python",
   "nbconvert_exporter": "python",
   "pygments_lexer": "ipython3",
   "version": "3.9.6"
  },
  "orig_nbformat": 4
 },
 "nbformat": 4,
 "nbformat_minor": 2
}
